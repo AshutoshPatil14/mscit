{
  "nbformat": 4,
  "nbformat_minor": 0,
  "metadata": {
    "colab": {
      "provenance": [],
      "authorship_tag": "ABX9TyPUNaMt0X6iTeX3FU74mPE1",
      "include_colab_link": true
    },
    "kernelspec": {
      "name": "python3",
      "display_name": "Python 3"
    },
    "language_info": {
      "name": "python"
    }
  },
  "cells": [
    {
      "cell_type": "markdown",
      "metadata": {
        "id": "view-in-github",
        "colab_type": "text"
      },
      "source": [
        "<a href=\"https://colab.research.google.com/github/examfiles/mscit/blob/main/RIC_3C.ipynb\" target=\"_parent\"><img src=\"https://colab.research.google.com/assets/colab-badge.svg\" alt=\"Open In Colab\"/></a>"
      ]
    },
    {
      "cell_type": "code",
      "source": [
        "from scipy import stats\n",
        "import matplotlib.pyplot as plt \n",
        "import pandas as pd\n",
        "df = pd.read_csv(\"blood_pressure.csv\")\n",
        "print(df[['bp_before','bp_after']].describe())\n",
        "df[['bp_before', 'bp_after']].plot(kind='box') \n",
        "plt.savefig('boxplot_outliers.png')\n",
        "df['bp_difference'] = df['bp_before'] - df['bp_after']\n",
        "df['bp_difference'].plot(kind='hist', title= 'Blood Pressure Difference Histogram') \n",
        "# plt.savefig('blood pressure difference histogram.png') \n",
        "# stats.probplot(df['bp_difference'], plot= plt) \n",
        "# plt.title('Blood pressure Difference Q-Q Plot') \n",
        "# plt.savefig('blood pressure difference qq plot.png') \n",
        "# stats.shapiro(df['bp_difference']) \n",
        "# stats.ttest_rel(df['bp_before'], df['bp_after'])\n"
      ],
      "metadata": {
        "colab": {
          "base_uri": "https://localhost:8080/",
          "height": 455
        },
        "id": "A-8MhydkCg7O",
        "outputId": "1681a6cb-6d77-4dd1-b6ae-a24363fead2e"
      },
      "execution_count": 11,
      "outputs": [
        {
          "output_type": "stream",
          "name": "stdout",
          "text": [
            "        bp_before    bp_after\n",
            "count   49.000000   49.000000\n",
            "mean   157.591837  153.979592\n",
            "std     11.274821   15.436010\n",
            "min    140.000000  125.000000\n",
            "25%    149.000000  141.000000\n",
            "50%    156.000000  155.000000\n",
            "75%    163.000000  164.000000\n",
            "max    185.000000  185.000000\n"
          ]
        },
        {
          "output_type": "execute_result",
          "data": {
            "text/plain": [
              "<matplotlib.axes._subplots.AxesSubplot at 0x7fc0659989d0>"
            ]
          },
          "metadata": {},
          "execution_count": 11
        },
        {
          "output_type": "display_data",
          "data": {
            "text/plain": [
              "<Figure size 432x288 with 1 Axes>"
            ],
            "image/png": "[encoded data removed]"
          },
          "metadata": {
            "needs_background": "light"
          }
        }
      ]
    },
    {
      "cell_type": "code",
      "source": [
        "from scipy import stats\n",
        "import matplotlib.pyplot as plt \n",
        "import pandas as pd\n",
        "df = pd.read_csv(\"blood_pressure.csv\")\n",
        "print(df[['bp_before','bp_after']].describe())\n",
        "# df[['bp_before', 'bp_after']].plot(kind='box') \n",
        "plt.savefig('boxplot_outliers.png')\n",
        "df['bp_difference'] = df['bp_before'] - df['bp_after']\n",
        "# df['bp_difference'].plot(kind='hist', title= 'Blood Pressure Difference Histogram') \n",
        "plt.savefig('blood pressure difference histogram.png') \n",
        "stats.probplot(df['bp_difference'], plot= plt) \n",
        "plt.title('Blood pressure Difference Q-Q Plot') \n",
        "plt.savefig('blood pressure difference qq plot.png') \n",
        "stats.shapiro(df['bp_difference']) \n",
        "stats.ttest_rel(df['bp_before'], df['bp_after'])\n"
      ],
      "metadata": {
        "colab": {
          "base_uri": "https://localhost:8080/",
          "height": 469
        },
        "id": "LftJrmygDmkA",
        "outputId": "c10fac56-5824-4e33-ae30-24080140dd78"
      },
      "execution_count": 12,
      "outputs": [
        {
          "output_type": "stream",
          "name": "stdout",
          "text": [
            "        bp_before    bp_after\n",
            "count   49.000000   49.000000\n",
            "mean   157.591837  153.979592\n",
            "std     11.274821   15.436010\n",
            "min    140.000000  125.000000\n",
            "25%    149.000000  141.000000\n",
            "50%    156.000000  155.000000\n",
            "75%    163.000000  164.000000\n",
            "max    185.000000  185.000000\n"
          ]
        },
        {
          "output_type": "execute_result",
          "data": {
            "text/plain": [
              "Ttest_relResult(statistic=1.2942368449675283, pvalue=0.20177594775256213)"
            ]
          },
          "metadata": {},
          "execution_count": 12
        },
        {
          "output_type": "display_data",
          "data": {
            "text/plain": [
              "<Figure size 432x288 with 1 Axes>"
            ],
            "image/png": "[encoded data removed]"
          },
          "metadata": {
            "needs_background": "light"
          }
        }
      ]
    },
    {
      "cell_type": "code",
      "source": [
        "from scipy import stats\n",
        "import matplotlib.pyplot as plt \n",
        "import pandas as pd\n",
        "df = pd.read_csv(\"blood_pressure.csv\")\n",
        "print(df[['bp_before','bp_after']].describe())\n",
        "df[['bp_before', 'bp_after']].plot(kind='box') \n",
        "plt.savefig('boxplot_outliers.png')\n",
        "df['bp_difference'] = df['bp_before'] - df['bp_after']\n",
        "# df['bp_difference'].plot(kind='hist', title= 'Blood Pressure Difference Histogram') \n",
        "# plt.savefig('blood pressure difference histogram.png') \n",
        "# stats.probplot(df['bp_difference'], plot= plt) \n",
        "# plt.title('Blood pressure Difference Q-Q Plot') \n",
        "# plt.savefig('blood pressure difference qq plot.png') \n",
        "# stats.shapiro(df['bp_difference']) \n",
        "# stats.ttest_rel(df['bp_before'], df['bp_after'])\n"
      ],
      "metadata": {
        "colab": {
          "base_uri": "https://localhost:8080/",
          "height": 422
        },
        "id": "jLGRbzq9D719",
        "outputId": "6c00f933-890f-4570-f0b0-19a5b270a59c"
      },
      "execution_count": 15,
      "outputs": [
        {
          "output_type": "stream",
          "name": "stdout",
          "text": [
            "        bp_before    bp_after\n",
            "count   49.000000   49.000000\n",
            "mean   157.591837  153.979592\n",
            "std     11.274821   15.436010\n",
            "min    140.000000  125.000000\n",
            "25%    149.000000  141.000000\n",
            "50%    156.000000  155.000000\n",
            "75%    163.000000  164.000000\n",
            "max    185.000000  185.000000\n"
          ]
        },
        {
          "output_type": "display_data",
          "data": {
            "text/plain": [
              "<Figure size 432x288 with 1 Axes>"
            ],
            "image/png": "[encoded data removed]"
          },
          "metadata": {
            "needs_background": "light"
          }
        }
      ]
    }
  ]
}