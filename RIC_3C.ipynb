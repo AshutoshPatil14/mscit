{
  "nbformat": 4,
  "nbformat_minor": 0,
  "metadata": {
    "colab": {
      "provenance": [],
      "authorship_tag": "ABX9TyMNB50uFDDCGj4o2F0d6hlE",
      "include_colab_link": true
    },
    "kernelspec": {
      "name": "python3",
      "display_name": "Python 3"
    },
    "language_info": {
      "name": "python"
    }
  },
  "cells": [
    {
      "cell_type": "markdown",
      "metadata": {
        "id": "view-in-github",
        "colab_type": "text"
      },
      "source": [
        "<a href=\"https://colab.research.google.com/github/examfiles/mscit/blob/main/RIC_3C.ipynb\" target=\"_parent\"><img src=\"https://colab.research.google.com/assets/colab-badge.svg\" alt=\"Open In Colab\"/></a>"
      ]
    },
    {
      "cell_type": "code",
      "execution_count": 1,
      "metadata": {
        "colab": {
          "base_uri": "https://localhost:8080/"
        },
        "id": "XSoIJ91j37qn",
        "outputId": "95028a54-b38d-4c15-d672-b026604ebc51"
      },
      "outputs": [
        {
          "output_type": "stream",
          "name": "stdout",
          "text": [
            "    Ages  Unnamed: 1               Unnamed: 2  Unnamed: 3\n",
            "0     41         NaN                     Ages         NaN\n",
            "1     35         NaN                      NaN         NaN\n",
            "2     36         NaN                     Mean   34.150000\n",
            "3     38         NaN           Standard Error    1.411000\n",
            "4     36         NaN                   Median   33.500000\n",
            "5     42         NaN                     Mode   29.000000\n",
            "6     45         NaN       Standard Deviation    6.310184\n",
            "7     35         NaN          Sample Variance   39.818421\n",
            "8     33         NaN                 Kurtosis   -1.515401\n",
            "9     33         NaN                 Skewness    0.204927\n",
            "10    43         NaN                    Range   19.000000\n",
            "11    28         NaN                  Minimum   25.000000\n",
            "12    45         NaN                  Maximum   44.000000\n",
            "13    34         NaN                      Sum  683.000000\n",
            "14    26         NaN                    Count   20.000000\n",
            "15    25         NaN               Largest(1)   44.000000\n",
            "16    32         NaN              Smallest(1)   25.000000\n",
            "17    27         NaN  Confidence Level(95.0%)    2.953257\n",
            "18    40         NaN                      NaN         NaN\n",
            "19    34         NaN                      NaN         NaN\n"
          ]
        }
      ],
      "source": [
        "import pandas as pd\n",
        "data = pd.read_csv('ages.csv')\n",
        "print(data)\n"
      ]
    },
    {
      "cell_type": "code",
      "source": [
        "from scipy import stats\n",
        "import matplotlib.pyplot as plt \n",
        "import pandas as pd\n",
        "df = pd.read_csv(\"blood_pressure.csv\")\n",
        "print(df[['bp_before','bp_after']].describe())\n",
        "df[['bp_before', 'bp_after']].plot(kind='box') \n",
        "plt.savefig('boxplot_outliers.png')\n",
        "df['bp_difference'] = df['bp_before'] - df['bp_after']\n",
        "df['bp_difference'].plot(kind='hist', title= 'Blood Pressure Difference Histogram') \n",
        "# plt.savefig('blood pressure difference histogram.png') \n",
        "# stats.probplot(df['bp_difference'], plot= plt) \n",
        "# plt.title('Blood pressure Difference Q-Q Plot') \n",
        "# plt.savefig('blood pressure difference qq plot.png') \n",
        "# stats.shapiro(df['bp_difference']) \n",
        "# stats.ttest_rel(df['bp_before'], df['bp_after'])\n"
      ],
      "metadata": {
        "colab": {
          "base_uri": "https://localhost:8080/",
          "height": 455
        },
        "id": "A-8MhydkCg7O",
        "outputId": "1681a6cb-6d77-4dd1-b6ae-a24363fead2e"
      },
      "execution_count": 11,
      "outputs": [
        {
          "output_type": "stream",
          "name": "stdout",
          "text": [
            "        bp_before    bp_after\n",
            "count   49.000000   49.000000\n",
            "mean   157.591837  153.979592\n",
            "std     11.274821   15.436010\n",
            "min    140.000000  125.000000\n",
            "25%    149.000000  141.000000\n",
            "50%    156.000000  155.000000\n",
            "75%    163.000000  164.000000\n",
            "max    185.000000  185.000000\n"
          ]
        },
        {
          "output_type": "execute_result",
          "data": {
            "text/plain": [
              "<matplotlib.axes._subplots.AxesSubplot at 0x7fc0659989d0>"
            ]
          },
          "metadata": {},
          "execution_count": 11
        },
        {
          "output_type": "display_data",
          "data": {
            "text/plain": [
              "<Figure size 432x288 with 1 Axes>"
            ],
            "image/png": "[encoded data removed]"
          },
          "metadata": {
            "needs_background": "light"
          }
        }
      ]
    },
    {
      "cell_type": "code",
      "source": [
        "from scipy import stats\n",
        "import matplotlib.pyplot as plt \n",
        "import pandas as pd\n",
        "df = pd.read_csv(\"blood_pressure.csv\")\n",
        "print(df[['bp_before','bp_after']].describe())\n",
        "# df[['bp_before', 'bp_after']].plot(kind='box') \n",
        "plt.savefig('boxplot_outliers.png')\n",
        "df['bp_difference'] = df['bp_before'] - df['bp_after']\n",
        "# df['bp_difference'].plot(kind='hist', title= 'Blood Pressure Difference Histogram') \n",
        "plt.savefig('blood pressure difference histogram.png') \n",
        "stats.probplot(df['bp_difference'], plot= plt) \n",
        "plt.title('Blood pressure Difference Q-Q Plot') \n",
        "plt.savefig('blood pressure difference qq plot.png') \n",
        "stats.shapiro(df['bp_difference']) \n",
        "stats.ttest_rel(df['bp_before'], df['bp_after'])\n"
      ],
      "metadata": {
        "colab": {
          "base_uri": "https://localhost:8080/",
          "height": 469
        },
        "id": "LftJrmygDmkA",
        "outputId": "c10fac56-5824-4e33-ae30-24080140dd78"
      },
      "execution_count": 12,
      "outputs": [
        {
          "output_type": "stream",
          "name": "stdout",
          "text": [
            "        bp_before    bp_after\n",
            "count   49.000000   49.000000\n",
            "mean   157.591837  153.979592\n",
            "std     11.274821   15.436010\n",
            "min    140.000000  125.000000\n",
            "25%    149.000000  141.000000\n",
            "50%    156.000000  155.000000\n",
            "75%    163.000000  164.000000\n",
            "max    185.000000  185.000000\n"
          ]
        },
        {
          "output_type": "execute_result",
          "data": {
            "text/plain": [
              "Ttest_relResult(statistic=1.2942368449675283, pvalue=0.20177594775256213)"
            ]
          },
          "metadata": {},
          "execution_count": 12
        },
        {
          "output_type": "display_data",
          "data": {
            "text/plain": [
              "<Figure size 432x288 with 1 Axes>"
            ],
            "image/png": "[encoded data removed]"
          },
          "metadata": {
            "needs_background": "light"
          }
        }
      ]
    },
    {
      "cell_type": "code",
      "source": [
        "from scipy import stats\n",
        "import matplotlib.pyplot as plt \n",
        "import pandas as pd\n",
        "df = pd.read_csv(\"blood_pressure.csv\")\n",
        "print(df[['bp_before','bp_after']].describe())\n",
        "df[['bp_before', 'bp_after']].plot(kind='box') \n",
        "plt.savefig('boxplot_outliers.png')\n",
        "df['bp_difference'] = df['bp_before'] - df['bp_after']\n",
        "# df['bp_difference'].plot(kind='hist', title= 'Blood Pressure Difference Histogram') \n",
        "# plt.savefig('blood pressure difference histogram.png') \n",
        "# stats.probplot(df['bp_difference'], plot= plt) \n",
        "# plt.title('Blood pressure Difference Q-Q Plot') \n",
        "# plt.savefig('blood pressure difference qq plot.png') \n",
        "# stats.shapiro(df['bp_difference']) \n",
        "# stats.ttest_rel(df['bp_before'], df['bp_after'])\n"
      ],
      "metadata": {
        "colab": {
          "base_uri": "https://localhost:8080/",
          "height": 422
        },
        "id": "jLGRbzq9D719",
        "outputId": "6c00f933-890f-4570-f0b0-19a5b270a59c"
      },
      "execution_count": 15,
      "outputs": [
        {
          "output_type": "stream",
          "name": "stdout",
          "text": [
            "        bp_before    bp_after\n",
            "count   49.000000   49.000000\n",
            "mean   157.591837  153.979592\n",
            "std     11.274821   15.436010\n",
            "min    140.000000  125.000000\n",
            "25%    149.000000  141.000000\n",
            "50%    156.000000  155.000000\n",
            "75%    163.000000  164.000000\n",
            "max    185.000000  185.000000\n"
          ]
        },
        {
          "output_type": "display_data",
          "data": {
            "text/plain": [
              "<Figure size 432x288 with 1 Axes>"
            ],
            "image/png": "[encoded data removed]"
          },
          "metadata": {
            "needs_background": "light"
          }
        }
      ]
    },
    {
      "cell_type": "code",
      "source": [
        "from scipy import stats\n",
        "import matplotlib.pyplot as plt \n",
        "import pandas as pd\n",
        "df = pd.read_csv(\"blood_pressure.csv\")\n",
        "print(df[['bp_before','bp_after']].describe())\n",
        "df[['bp_before', 'bp_after']].plot(kind='box') \n",
        "plt.savefig('boxplot_outliers.png')\n",
        "df['bp_difference'] = df['bp_before'] - df['bp_after']\n",
        "df['bp_difference'].plot(kind='hist', title= 'Blood Pressure Difference Histogram') \n",
        "plt.savefig('blood pressure difference histogram.png') \n",
        "stats.probplot(df['bp_difference'], plot= plt) \n",
        "plt.title('Blood pressure Difference Q-Q Plot') \n",
        "plt.savefig('blood pressure difference qq plot.png') \n",
        "stats.shapiro(df['bp_difference']) \n",
        "stats.ttest_rel(df['bp_before'], df['bp_after'])\n"
      ],
      "metadata": {
        "colab": {
          "base_uri": "https://localhost:8080/",
          "height": 470
        },
        "id": "4Y7z-DYGEG09",
        "outputId": "4c990e09-fb4e-408f-e7e9-c00bb1f5b115"
      },
      "execution_count": 16,
      "outputs": [
        {
          "output_type": "stream",
          "name": "stdout",
          "text": [
            "        bp_before    bp_after\n",
            "count   49.000000   49.000000\n",
            "mean   157.591837  153.979592\n",
            "std     11.274821   15.436010\n",
            "min    140.000000  125.000000\n",
            "25%    149.000000  141.000000\n",
            "50%    156.000000  155.000000\n",
            "75%    163.000000  164.000000\n",
            "max    185.000000  185.000000\n"
          ]
        },
        {
          "output_type": "execute_result",
          "data": {
            "text/plain": [
              "Ttest_relResult(statistic=1.2942368449675283, pvalue=0.20177594775256213)"
            ]
          },
          "metadata": {},
          "execution_count": 16
        },
        {
          "output_type": "display_data",
          "data": {
            "text/plain": [
              "<Figure size 432x288 with 1 Axes>"
            ],
            "image/png": "[encoded data removed]"
          },
          "metadata": {
            "needs_background": "light"
          }
        }
      ]
    },
    {
      "cell_type": "code",
      "source": [
        "from statsmodels.stats import weightstats as stests \n",
        "import pandas as pd\n",
        "from scipy import stats\n",
        "df = pd.read_csv(\"blood_pressure.csv\") \n",
        "df[['bp_before','bp_after']].describe() \n",
        "print(df)\n",
        "ztest ,pval = stests.ztest(df['bp_before'], x2=None, value=156) \n",
        "print(float(pval))\n",
        "if pval<0.05:\n",
        "  print(\"reject null hypothesis\") \n",
        "else:\n",
        "  print(\"accept null hypothesis\")"
      ],
      "metadata": {
        "colab": {
          "base_uri": "https://localhost:8080/"
        },
        "id": "joHrnUndMGxn",
        "outputId": "7a4c940d-0598-47dc-f01e-2ce9a5eac20c"
      },
      "execution_count": 18,
      "outputs": [
        {
          "output_type": "stream",
          "name": "stdout",
          "text": [
            "    patient gender agegrp  bp_before  bp_after\n",
            "0         1   Male  30-45        143       153\n",
            "1         2   Male  30-45        163       170\n",
            "2         3   Male  30-45        153       168\n",
            "3         4   Male  30-45        153       142\n",
            "4         5   Male  30-45        146       141\n",
            "5         6   Male  30-45        150       147\n",
            "6         7   Male  30-45        148       133\n",
            "7         8   Male  30-45        153       141\n",
            "8         9   Male  30-45        153       131\n",
            "9        10   Male  30-45        158       125\n",
            "10       11   Male  30-45        149       164\n",
            "11       12   Male  30-45        173       159\n",
            "12       13   Male  30-45        165       135\n",
            "13       14   Male  30-45        145       159\n",
            "14       15   Male  30-45        143       153\n",
            "15       16   Male  30-45        152       126\n",
            "16       17   Male  30-45        141       162\n",
            "17       18   Male  30-45        176       134\n",
            "18       19   Male  30-45        143       136\n",
            "19       20   Male  30-45        162       150\n",
            "20       21   Male  46-59        149       168\n",
            "21       22   Male  46-59        156       155\n",
            "22       23   Male  46-59        151       136\n",
            "23       24   Male  46-59        159       132\n",
            "24       25   Male  46-59        164       160\n",
            "25       26   Male  46-59        154       160\n",
            "26       27   Male  46-59        152       136\n",
            "27       28   Male  46-59        142       183\n",
            "28       29   Male  46-59        162       152\n",
            "29       30   Male  46-59        155       162\n",
            "30       31   Male  46-59        175       151\n",
            "31       32   Male  46-59        184       139\n",
            "32       33   Male  46-59        167       175\n",
            "33       34   Male  46-59        148       184\n",
            "34       35   Male  46-59        170       151\n",
            "35       36   Male  46-59        159       171\n",
            "36       37   Male  46-59        149       157\n",
            "37       38   Male  46-59        140       159\n",
            "38       39   Male  46-59        185       140\n",
            "39       40   Male  46-59        160       174\n",
            "40       41   Male    60+        157       167\n",
            "41       42   Male    60+        158       158\n",
            "42       43   Male    60+        162       168\n",
            "43       44   Male    60+        160       159\n",
            "44       45   Male    60+        180       153\n",
            "45       46   Male    60+        155       164\n",
            "46       47   Male    60+        172       169\n",
            "47       48   Male    60+        157       148\n",
            "48       49   Male    60+        171       185\n",
            "0.32300786855637653\n",
            "accept null hypothesis\n"
          ]
        }
      ]
    }
  ]
}