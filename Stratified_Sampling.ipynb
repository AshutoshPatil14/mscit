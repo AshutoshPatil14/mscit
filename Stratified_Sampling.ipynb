{
  "nbformat": 4,
  "nbformat_minor": 0,
  "metadata": {
    "colab": {
      "provenance": [],
      "authorship_tag": "ABX9TyNFa3AHxel11WOjBWlQtCNa",
      "include_colab_link": true
    },
    "kernelspec": {
      "name": "python3",
      "display_name": "Python 3"
    },
    "language_info": {
      "name": "python"
    }
  },
  "cells": [
    {
      "cell_type": "markdown",
      "metadata": {
        "id": "view-in-github",
        "colab_type": "text"
      },
      "source": [
        "<a href=\"https://colab.research.google.com/github/examfiles/mscit/blob/main/Stratified_Sampling.ipynb\" target=\"_parent\"><img src=\"https://colab.research.google.com/assets/colab-badge.svg\" alt=\"Open In Colab\"/></a>"
      ]
    },
    {
      "cell_type": "code",
      "execution_count": null,
      "metadata": {
        "id": "qiYrRI5gSrAD"
      },
      "outputs": [],
      "source": [
        "import csv\n",
        "import random\n",
        "\n",
        "def stratified_sampling(filename, class_column, sample_size):\n",
        "    \"\"\"\n",
        "    Perform stratified sampling on a CSV file.\n",
        "\n",
        "    filename: the name of the CSV file\n",
        "    class_column: the name of the column containing the class labels\n",
        "    sample_size: the desired number of samples for each class\n",
        "    \"\"\"\n",
        "    samples = []\n",
        "    classes = {}\n",
        "    with open(filename, 'r') as file:\n",
        "        reader = csv.DictReader(file)\n",
        "        for row in reader:\n",
        "            c = row[class_column]\n",
        "            if c not in classes:\n",
        "                classes[c] = []\n",
        "            classes[c].append(row)\n",
        "    for c in classes:\n",
        "        class_data = classes[c]\n",
        "        samples.extend(random.sample(class_data, sample_size))\n",
        "    return samples\n",
        "\n",
        "# Example usage\n",
        "filename = 'data.csv'\n",
        "class_column = 'Class'\n",
        "sample_size = 2\n",
        "samples = stratified_sampling(filename, class_column, sample_size)\n",
        "for row in samples:\n",
        "    print(row)"
      ]
    }
  ]
}